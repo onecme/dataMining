{
  "nbformat": 4,
  "nbformat_minor": 0,
  "metadata": {
    "colab": {
      "provenance": [],
      "authorship_tag": "ABX9TyOuS2UvNd7HyF48+KA/m5nP",
      "include_colab_link": true
    },
    "kernelspec": {
      "name": "python3",
      "display_name": "Python 3"
    },
    "language_info": {
      "name": "python"
    }
  },
  "cells": [
    {
      "cell_type": "markdown",
      "metadata": {
        "id": "view-in-github",
        "colab_type": "text"
      },
      "source": [
        "<a href=\"https://colab.research.google.com/github/onecme/dataMining/blob/main/TI09_ElyasRandiRenaldi_0110223277_Pratikum3_Part1.ipynb\" target=\"_parent\"><img src=\"https://colab.research.google.com/assets/colab-badge.svg\" alt=\"Open In Colab\"/></a>"
      ]
    },
    {
      "cell_type": "code",
      "execution_count": 1,
      "metadata": {
        "id": "MtDkdoFoPjof"
      },
      "outputs": [],
      "source": [
        "import numpy as np\n",
        "from sklearn.preprocessing import MinMaxScaler\n",
        "from sklearn.preprocessing import StandardScaler"
      ]
    },
    {
      "cell_type": "markdown",
      "source": [
        "##**Min-Max Normalization**"
      ],
      "metadata": {
        "id": "0ojdhp1QSHwb"
      }
    },
    {
      "cell_type": "code",
      "source": [
        "# Data contoh (ganti dengan data Anda)\n",
        "data = np.array([[2.0, 5.0],\n",
        "                [1.0, 4.0],\n",
        "                [3.0, 6.0]])\n",
        "\n",
        "# Inisaialisasi objek MinMaxScaler\n",
        "Scaler = MinMaxScaler()\n",
        "\n",
        "# Fit dan transformas data menggunaka Min-Max Scaling\n",
        "Scaled_data = Scaler.fit_transform(data)\n",
        "\n",
        "print(\"Data asli: \")\n",
        "print(data)\n",
        "\n",
        "print(\"\\nData setelah Min-Max Scaling: \")\n",
        "print(Scaled_data)"
      ],
      "metadata": {
        "colab": {
          "base_uri": "https://localhost:8080/"
        },
        "id": "OiddTaQJP5rR",
        "outputId": "247d9037-ebb7-4681-b058-ba194b08534e"
      },
      "execution_count": 2,
      "outputs": [
        {
          "output_type": "stream",
          "name": "stdout",
          "text": [
            "Data asli: \n",
            "[[2. 5.]\n",
            " [1. 4.]\n",
            " [3. 6.]]\n",
            "\n",
            "Data setelah Min-Max Scaling: \n",
            "[[0.5 0.5]\n",
            " [0.  0. ]\n",
            " [1.  1. ]]\n"
          ]
        }
      ]
    },
    {
      "cell_type": "markdown",
      "source": [
        "\n",
        "##**Z-Score Transformation**"
      ],
      "metadata": {
        "id": "7mn7aD_fSPzC"
      }
    },
    {
      "cell_type": "code",
      "source": [
        "# Data contoh (ganti dengan data Anda)\n",
        "data = np.array([[2.0, 5.0],\n",
        "                [1.0, 4.0],\n",
        "                [3.0, 6.0]])\n",
        "\n",
        "# Inisialisasi objek StandardScaler\n",
        "Scaler = StandardScaler()\n",
        "\n",
        "# fit dan transformasi data menggunkan Z-Score Transformatin\n",
        "Z_score_data = Scaler.fit_transform(data)\n",
        "\n",
        "print(\"Data asli: \")\n",
        "print(data)\n",
        "\n",
        "print(\"\\nData setelah Z-Score Transformation: \")\n",
        "print(Z_score_data)"
      ],
      "metadata": {
        "colab": {
          "base_uri": "https://localhost:8080/"
        },
        "id": "W8nQiwu2Q8yJ",
        "outputId": "a4d89b39-1d9e-46a7-b783-cc033e6f9fae"
      },
      "execution_count": 3,
      "outputs": [
        {
          "output_type": "stream",
          "name": "stdout",
          "text": [
            "Data asli: \n",
            "[[2. 5.]\n",
            " [1. 4.]\n",
            " [3. 6.]]\n",
            "\n",
            "Data setelah Z-Score Transformation: \n",
            "[[ 0.          0.        ]\n",
            " [-1.22474487 -1.22474487]\n",
            " [ 1.22474487  1.22474487]]\n"
          ]
        }
      ]
    },
    {
      "cell_type": "markdown",
      "source": [
        "##**Scaling Decimal**"
      ],
      "metadata": {
        "id": "iog5SAb2SZpm"
      }
    },
    {
      "cell_type": "code",
      "source": [
        "# Data contoh (ganti dengan data anda)\n",
        "data = np.array([200, 300, 400, 500, 600])\n",
        "\n",
        "# Menentukan faktor penggerseran (scaling factor),\n",
        "# misalnya 1000 untuk mengubah ke rentang 0-1\n",
        "scaling_factor = 1000\n",
        "\n",
        "# Melakukan transformasi Decimal Scaling\n",
        "Scaled_data = data / scaling_factor\n",
        "\n",
        "print(\"Data asli: \")\n",
        "print(data)\n",
        "\n",
        "print(\"\\nData setelah Decimal Scaling: \")\n",
        "print(Scaled_data)"
      ],
      "metadata": {
        "colab": {
          "base_uri": "https://localhost:8080/"
        },
        "id": "slBh4FLFSgrn",
        "outputId": "f1c7ec53-921b-451d-af51-f11db07254da"
      },
      "execution_count": 4,
      "outputs": [
        {
          "output_type": "stream",
          "name": "stdout",
          "text": [
            "Data asli: \n",
            "[200 300 400 500 600]\n",
            "\n",
            "Data setelah Decimal Scaling: \n",
            "[0.2 0.3 0.4 0.5 0.6]\n"
          ]
        }
      ]
    }
  ]
}
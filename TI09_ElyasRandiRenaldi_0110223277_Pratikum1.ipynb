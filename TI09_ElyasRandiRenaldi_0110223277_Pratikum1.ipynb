{
  "nbformat": 4,
  "nbformat_minor": 0,
  "metadata": {
    "colab": {
      "provenance": [],
      "mount_file_id": "171DoxQCJ5xb9nCn98oATDFS5PnePFkj4",
      "authorship_tag": "ABX9TyPDB/bBl0TQKKEK72K3kFa/",
      "include_colab_link": true
    },
    "kernelspec": {
      "name": "python3",
      "display_name": "Python 3"
    },
    "language_info": {
      "name": "python"
    }
  },
  "cells": [
    {
      "cell_type": "markdown",
      "metadata": {
        "id": "view-in-github",
        "colab_type": "text"
      },
      "source": [
        "<a href=\"https://colab.research.google.com/github/onecme/dataMining/blob/main/TI09_ElyasRandiRenaldi_0110223277_Pratikum1.ipynb\" target=\"_parent\"><img src=\"https://colab.research.google.com/assets/colab-badge.svg\" alt=\"Open In Colab\"/></a>"
      ]
    },
    {
      "cell_type": "code",
      "execution_count": 1,
      "metadata": {
        "id": "Lg9WyW7rAQKB"
      },
      "outputs": [],
      "source": [
        "import pandas as pd\n",
        "import numpy as np\n"
      ]
    },
    {
      "cell_type": "markdown",
      "source": [
        "**OBJECT CREATION**"
      ],
      "metadata": {
        "id": "D_RBS3iDNMsY"
      }
    },
    {
      "cell_type": "code",
      "source": [
        "s = pd.Series([1, 3, 5, np.nan, 6, 8])\n",
        "dates = pd.date_range('2023-10-01', periods=6)\n",
        "df = pd.DataFrame(np.random.randn(6, 4), index=dates, columns=list('ABCD'))\n",
        "\n",
        "print(\"Object Creation:\")\n",
        "print(\"Series\")\n",
        "print(s)\n",
        "print(\"\\nDataFrame:\")\n",
        "print(df)\n",
        "print(\"=\"*50)"
      ],
      "metadata": {
        "colab": {
          "base_uri": "https://localhost:8080/"
        },
        "id": "J-gvwP0iAjlO",
        "outputId": "0646d05e-a647-4c77-fb56-701917ee60d3"
      },
      "execution_count": 2,
      "outputs": [
        {
          "output_type": "stream",
          "name": "stdout",
          "text": [
            "Object Creation:\n",
            "Series\n",
            "0    1.0\n",
            "1    3.0\n",
            "2    5.0\n",
            "3    NaN\n",
            "4    6.0\n",
            "5    8.0\n",
            "dtype: float64\n",
            "\n",
            "DataFrame:\n",
            "                   A         B         C         D\n",
            "2023-10-01  1.003332  0.383993 -0.028162  1.076238\n",
            "2023-10-02 -2.259439 -0.646927  0.198108  0.845895\n",
            "2023-10-03 -0.681235  0.308751  2.377651 -0.486266\n",
            "2023-10-04 -0.182299 -0.585985 -0.117286  0.443513\n",
            "2023-10-05 -0.356215  0.669343 -0.532019 -2.180079\n",
            "2023-10-06  0.534105  1.390418 -0.280461  0.239858\n",
            "==================================================\n"
          ]
        }
      ]
    },
    {
      "cell_type": "markdown",
      "source": [
        "**VIEWING DATA**"
      ],
      "metadata": {
        "id": "YDe9hIe-Njic"
      }
    },
    {
      "cell_type": "code",
      "source": [
        "print(\"Viewing Data:\")\n",
        "print(\"Firs  3 rows:\")\n",
        "print(df.head(3))\n",
        "print(\"\\nLast 2 rows:\")\n",
        "print(df.tail(2))\n",
        "print(\"\\nIndex and Colums:\")\n",
        "print(df.index)\n",
        "print(df.columns)\n",
        "print(\"=\"*40)"
      ],
      "metadata": {
        "colab": {
          "base_uri": "https://localhost:8080/"
        },
        "id": "e9o17TqbC-ub",
        "outputId": "7f17e807-b11c-46a9-971a-f05cf5071920"
      },
      "execution_count": 3,
      "outputs": [
        {
          "output_type": "stream",
          "name": "stdout",
          "text": [
            "Viewing Data:\n",
            "Firs  3 rows:\n",
            "                   A         B         C         D\n",
            "2023-10-01  1.003332  0.383993 -0.028162  1.076238\n",
            "2023-10-02 -2.259439 -0.646927  0.198108  0.845895\n",
            "2023-10-03 -0.681235  0.308751  2.377651 -0.486266\n",
            "\n",
            "Last 2 rows:\n",
            "                   A         B         C         D\n",
            "2023-10-05 -0.356215  0.669343 -0.532019 -2.180079\n",
            "2023-10-06  0.534105  1.390418 -0.280461  0.239858\n",
            "\n",
            "Index and Colums:\n",
            "DatetimeIndex(['2023-10-01', '2023-10-02', '2023-10-03', '2023-10-04',\n",
            "               '2023-10-05', '2023-10-06'],\n",
            "              dtype='datetime64[ns]', freq='D')\n",
            "Index(['A', 'B', 'C', 'D'], dtype='object')\n",
            "========================================\n"
          ]
        }
      ]
    },
    {
      "cell_type": "code",
      "source": [
        "print('Selection:')\n",
        "print(\"Selecting a column (A):\")\n",
        "print(df['A'])\n",
        "print(\"\\nSelecting by label (row 0 ):\")\n",
        "print(df.loc[dates[0]])\n",
        "print(\"\\nSelecting by position (row 1):\")\n",
        "print(df.iloc[1])\n",
        "print(\"\\nSelecting a subset of rows and colums:\")\n",
        "print(df.loc[dates[1:3], ['A', 'B']])\n",
        "print(\"=\"*40)"
      ],
      "metadata": {
        "colab": {
          "base_uri": "https://localhost:8080/"
        },
        "id": "WZR8aLb8ELqX",
        "outputId": "c2b94e1f-0a3f-435e-a1ed-e0132e1f67f4"
      },
      "execution_count": 4,
      "outputs": [
        {
          "output_type": "stream",
          "name": "stdout",
          "text": [
            "Selection:\n",
            "Selecting a column (A):\n",
            "2023-10-01    1.003332\n",
            "2023-10-02   -2.259439\n",
            "2023-10-03   -0.681235\n",
            "2023-10-04   -0.182299\n",
            "2023-10-05   -0.356215\n",
            "2023-10-06    0.534105\n",
            "Freq: D, Name: A, dtype: float64\n",
            "\n",
            "Selecting by label (row 0 ):\n",
            "A    1.003332\n",
            "B    0.383993\n",
            "C   -0.028162\n",
            "D    1.076238\n",
            "Name: 2023-10-01 00:00:00, dtype: float64\n",
            "\n",
            "Selecting by position (row 1):\n",
            "A   -2.259439\n",
            "B   -0.646927\n",
            "C    0.198108\n",
            "D    0.845895\n",
            "Name: 2023-10-02 00:00:00, dtype: float64\n",
            "\n",
            "Selecting a subset of rows and colums:\n",
            "                   A         B\n",
            "2023-10-02 -2.259439 -0.646927\n",
            "2023-10-03 -0.681235  0.308751\n",
            "========================================\n"
          ]
        }
      ]
    },
    {
      "cell_type": "code",
      "source": [
        "dfl = df.reindex(index=dates[0:4], columns=list(df.columns) +['E'] )\n",
        "dfl.loc[dates[0]:dates[1], 'E'] = 1\n",
        "\n",
        "print(\"Missing Data\")\n",
        "print(\"DataFrane with missing values:\")\n",
        "print(dfl)\n",
        "print(\"\\nDropping rows with missing values:\")\n",
        "print(dfl.dropna())\n",
        "print(\"\\nFilling missing values:\")\n",
        "print(dfl.fillna(value=0))\n",
        "print(\"=\"*60)"
      ],
      "metadata": {
        "colab": {
          "base_uri": "https://localhost:8080/"
        },
        "id": "PowciN1oGjnU",
        "outputId": "a2ea419a-7fc4-4bdc-a821-ac9db4fb06a9"
      },
      "execution_count": 5,
      "outputs": [
        {
          "output_type": "stream",
          "name": "stdout",
          "text": [
            "Missing Data\n",
            "DataFrane with missing values:\n",
            "                   A         B         C         D    E\n",
            "2023-10-01  1.003332  0.383993 -0.028162  1.076238  1.0\n",
            "2023-10-02 -2.259439 -0.646927  0.198108  0.845895  1.0\n",
            "2023-10-03 -0.681235  0.308751  2.377651 -0.486266  NaN\n",
            "2023-10-04 -0.182299 -0.585985 -0.117286  0.443513  NaN\n",
            "\n",
            "Dropping rows with missing values:\n",
            "                   A         B         C         D    E\n",
            "2023-10-01  1.003332  0.383993 -0.028162  1.076238  1.0\n",
            "2023-10-02 -2.259439 -0.646927  0.198108  0.845895  1.0\n",
            "\n",
            "Filling missing values:\n",
            "                   A         B         C         D    E\n",
            "2023-10-01  1.003332  0.383993 -0.028162  1.076238  1.0\n",
            "2023-10-02 -2.259439 -0.646927  0.198108  0.845895  1.0\n",
            "2023-10-03 -0.681235  0.308751  2.377651 -0.486266  0.0\n",
            "2023-10-04 -0.182299 -0.585985 -0.117286  0.443513  0.0\n",
            "============================================================\n"
          ]
        }
      ]
    },
    {
      "cell_type": "code",
      "source": [
        "print(\"Operations:\")\n",
        "print(\"Mean if each column:\")\n",
        "print(df.mean())\n",
        "print(\"\\nSum of each row\")\n",
        "print(df.sum(axis=1))\n",
        "print(\"=\"*40)"
      ],
      "metadata": {
        "colab": {
          "base_uri": "https://localhost:8080/"
        },
        "id": "gALVfgI5IPpN",
        "outputId": "749a7d86-d14c-4f2f-f9ae-35f3d1d3a90a"
      },
      "execution_count": 6,
      "outputs": [
        {
          "output_type": "stream",
          "name": "stdout",
          "text": [
            "Operations:\n",
            "Mean if each column:\n",
            "A   -0.323625\n",
            "B    0.253266\n",
            "C    0.269639\n",
            "D   -0.010140\n",
            "dtype: float64\n",
            "\n",
            "Sum of each row\n",
            "2023-10-01    2.435401\n",
            "2023-10-02   -1.862363\n",
            "2023-10-03    1.518901\n",
            "2023-10-04   -0.442057\n",
            "2023-10-05   -2.398970\n",
            "2023-10-06    1.883921\n",
            "Freq: D, dtype: float64\n",
            "========================================\n"
          ]
        }
      ]
    },
    {
      "cell_type": "code",
      "source": [
        "left = pd.DataFrame({'key':['K0', 'K1', 'K2', 'K3'], 'A':['A0', 'A1', 'A2', 'A3'],\n",
        "                     'B': ['80', '81', '82', '83']})\n",
        "right = pd.DataFrame({'key': ['K0', 'K1', 'K2', 'K3'], 'C':['C0', 'C1', 'C2', 'C3'],\n",
        "                      'D': ['D0', 'D1', 'D2','D3']})\n",
        "merged_df = pd.merge(left, right, on='key')\n",
        "\n",
        "print(\"Merge\")\n",
        "print(\"Merged DataFrame:\")\n",
        "print(merged_df)\n",
        "print(\"=\"*40)"
      ],
      "metadata": {
        "colab": {
          "base_uri": "https://localhost:8080/"
        },
        "id": "BPYMXaPuJ5e2",
        "outputId": "129ef35b-635f-43e6-db8b-86730a474340"
      },
      "execution_count": 7,
      "outputs": [
        {
          "output_type": "stream",
          "name": "stdout",
          "text": [
            "Merge\n",
            "Merged DataFrame:\n",
            "  key   A   B   C   D\n",
            "0  K0  A0  80  C0  D0\n",
            "1  K1  A1  81  C1  D1\n",
            "2  K2  A2  82  C2  D2\n",
            "3  K3  A3  83  C3  D3\n",
            "========================================\n"
          ]
        }
      ]
    },
    {
      "cell_type": "code",
      "source": [
        "grouped = df.groupby('A').sum()\n",
        "print(\"Grouping:\")\n",
        "print(\"Grouped DataFrame:\")\n",
        "print(grouped)\n",
        "print(\"=\"*40)"
      ],
      "metadata": {
        "colab": {
          "base_uri": "https://localhost:8080/"
        },
        "id": "1-MKTX9DMSJn",
        "outputId": "ffabf012-f493-4f07-d75e-18868270da92"
      },
      "execution_count": 8,
      "outputs": [
        {
          "output_type": "stream",
          "name": "stdout",
          "text": [
            "Grouping:\n",
            "Grouped DataFrame:\n",
            "                  B         C         D\n",
            "A                                      \n",
            "-2.259439 -0.646927  0.198108  0.845895\n",
            "-0.681235  0.308751  2.377651 -0.486266\n",
            "-0.356215  0.669343 -0.532019 -2.180079\n",
            "-0.182299 -0.585985 -0.117286  0.443513\n",
            " 0.534105  1.390418 -0.280461  0.239858\n",
            " 1.003332  0.383993 -0.028162  1.076238\n",
            "========================================\n"
          ]
        }
      ]
    },
    {
      "cell_type": "code",
      "source": [
        "stacked = df.stack()\n",
        "unstacked = stacked.unstack()\n",
        "\n",
        "print(\"Reshaping:\")\n",
        "print(\"Stacked DataFrame:\")\n",
        "print(stacked)\n",
        "print(\"\\nUnstacked DataFrame:\")\n",
        "print(unstacked)\n",
        "print(\"=\"*40)"
      ],
      "metadata": {
        "colab": {
          "base_uri": "https://localhost:8080/"
        },
        "id": "HDKJiatzMq79",
        "outputId": "8450d973-a3cc-4c0d-fd61-538358c903e1"
      },
      "execution_count": 9,
      "outputs": [
        {
          "output_type": "stream",
          "name": "stdout",
          "text": [
            "Reshaping:\n",
            "Stacked DataFrame:\n",
            "2023-10-01  A    1.003332\n",
            "            B    0.383993\n",
            "            C   -0.028162\n",
            "            D    1.076238\n",
            "2023-10-02  A   -2.259439\n",
            "            B   -0.646927\n",
            "            C    0.198108\n",
            "            D    0.845895\n",
            "2023-10-03  A   -0.681235\n",
            "            B    0.308751\n",
            "            C    2.377651\n",
            "            D   -0.486266\n",
            "2023-10-04  A   -0.182299\n",
            "            B   -0.585985\n",
            "            C   -0.117286\n",
            "            D    0.443513\n",
            "2023-10-05  A   -0.356215\n",
            "            B    0.669343\n",
            "            C   -0.532019\n",
            "            D   -2.180079\n",
            "2023-10-06  A    0.534105\n",
            "            B    1.390418\n",
            "            C   -0.280461\n",
            "            D    0.239858\n",
            "dtype: float64\n",
            "\n",
            "Unstacked DataFrame:\n",
            "                   A         B         C         D\n",
            "2023-10-01  1.003332  0.383993 -0.028162  1.076238\n",
            "2023-10-02 -2.259439 -0.646927  0.198108  0.845895\n",
            "2023-10-03 -0.681235  0.308751  2.377651 -0.486266\n",
            "2023-10-04 -0.182299 -0.585985 -0.117286  0.443513\n",
            "2023-10-05 -0.356215  0.669343 -0.532019 -2.180079\n",
            "2023-10-06  0.534105  1.390418 -0.280461  0.239858\n",
            "========================================\n"
          ]
        }
      ]
    },
    {
      "cell_type": "markdown",
      "source": [
        "**DATA TIME SERIES**"
      ],
      "metadata": {
        "id": "1UMvx6Q7Nry2"
      }
    },
    {
      "cell_type": "code",
      "source": [
        "ts = pd.Series(np.random.randn(1000), index=pd.date_range('2023-01-01', periods=1000))\n",
        "cumulative_sum = ts.cumsum()\n",
        "\n",
        "print(\"Time Series:\")\n",
        "print(ts.head())\n",
        "print(\"\\nCumulative Sum:\")\n",
        "print(cumulative_sum.head())\n",
        "print(\"=\"*40)"
      ],
      "metadata": {
        "colab": {
          "base_uri": "https://localhost:8080/"
        },
        "id": "cOqboI6dN1zO",
        "outputId": "e122db02-8906-4d98-b352-7e039b8e5ba9"
      },
      "execution_count": 10,
      "outputs": [
        {
          "output_type": "stream",
          "name": "stdout",
          "text": [
            "Time Series:\n",
            "2023-01-01   -0.702202\n",
            "2023-01-02    1.586329\n",
            "2023-01-03    0.290007\n",
            "2023-01-04   -0.169329\n",
            "2023-01-05    2.076155\n",
            "Freq: D, dtype: float64\n",
            "\n",
            "Cumulative Sum:\n",
            "2023-01-01   -0.702202\n",
            "2023-01-02    0.884127\n",
            "2023-01-03    1.174134\n",
            "2023-01-04    1.004804\n",
            "2023-01-05    3.080959\n",
            "Freq: D, dtype: float64\n",
            "========================================\n"
          ]
        }
      ]
    },
    {
      "cell_type": "markdown",
      "source": [
        "**DATA KATEGORICAL**"
      ],
      "metadata": {
        "id": "B4shpzF_O-3G"
      }
    },
    {
      "cell_type": "code",
      "source": [
        "s = pd.Series([\"cat\", \"dog\", \"bird\", \"cat\", \"dog\"], dtype=\"category\")\n",
        "\n",
        "new_categories= [\"Category 1\", \"Category 2\", \"Category 3\"]\n",
        "\n",
        "s_new = s.cat.set_categories(new_categories)\n",
        "\n",
        "print(\"Categoricals\")\n",
        "print(\"Original Categorical Series:\")\n",
        "print(s)\n",
        "print(\"\\nNew Categorical Series with Updated Categories:\")\n",
        "print(s_new)"
      ],
      "metadata": {
        "colab": {
          "base_uri": "https://localhost:8080/"
        },
        "id": "6r-jhNBlPDXv",
        "outputId": "60043ee5-4fd5-417f-d358-f46d055b9016"
      },
      "execution_count": 11,
      "outputs": [
        {
          "output_type": "stream",
          "name": "stdout",
          "text": [
            "Categoricals\n",
            "Original Categorical Series:\n",
            "0     cat\n",
            "1     dog\n",
            "2    bird\n",
            "3     cat\n",
            "4     dog\n",
            "dtype: category\n",
            "Categories (3, object): ['bird', 'cat', 'dog']\n",
            "\n",
            "New Categorical Series with Updated Categories:\n",
            "0    NaN\n",
            "1    NaN\n",
            "2    NaN\n",
            "3    NaN\n",
            "4    NaN\n",
            "dtype: category\n",
            "Categories (3, object): ['Category 1', 'Category 2', 'Category 3']\n"
          ]
        }
      ]
    },
    {
      "cell_type": "markdown",
      "source": [
        "**PLOTTING**"
      ],
      "metadata": {
        "id": "TivS9N1UQt05"
      }
    },
    {
      "cell_type": "code",
      "source": [
        "import matplotlib.pyplot as plt\n",
        "\n",
        "df.plot()\n",
        "plt.show()\n",
        "\n",
        "print(\"Plotting:\")\n",
        "print(\"=\"*40)"
      ],
      "metadata": {
        "colab": {
          "base_uri": "https://localhost:8080/",
          "height": 497
        },
        "id": "I62ExXOqQi5Q",
        "outputId": "64e7f707-b447-4cef-fd52-a8bc4cacd7f7"
      },
      "execution_count": 12,
      "outputs": [
        {
          "output_type": "display_data",
          "data": {
            "text/plain": [
              "<Figure size 640x480 with 1 Axes>"
            ],
            "image/png": "[encoded data removed]"
          },
          "metadata": {}
        },
        {
          "output_type": "stream",
          "name": "stdout",
          "text": [
            "Plotting:\n",
            "========================================\n"
          ]
        }
      ]
    },
    {
      "cell_type": "code",
      "source": [
        "imported_df = pd.read_csv('/content/drive/MyDrive/dataset/pratikum1.csv')\n",
        "\n",
        "print(\"Importing and Exporting Data:\")\n",
        "print(\"Exported DataFrame to CSV:\")\n",
        "print(df)\n",
        "print(\"\\nImported DataFrame from CSV\")\n",
        "print(imported_df)\n",
        "print(\"=\"*40)\n",
        "df.to_csv('/content/drive/MyDrive/dataset/pratikum1.csv')"
      ],
      "metadata": {
        "colab": {
          "base_uri": "https://localhost:8080/"
        },
        "id": "qFJCi_sTRyaL",
        "outputId": "d7b46f0f-d523-40ce-c113-344e97453906"
      },
      "execution_count": 13,
      "outputs": [
        {
          "output_type": "stream",
          "name": "stdout",
          "text": [
            "Importing and Exporting Data:\n",
            "Exported DataFrame to CSV:\n",
            "                   A         B         C         D\n",
            "2023-10-01  1.003332  0.383993 -0.028162  1.076238\n",
            "2023-10-02 -2.259439 -0.646927  0.198108  0.845895\n",
            "2023-10-03 -0.681235  0.308751  2.377651 -0.486266\n",
            "2023-10-04 -0.182299 -0.585985 -0.117286  0.443513\n",
            "2023-10-05 -0.356215  0.669343 -0.532019 -2.180079\n",
            "2023-10-06  0.534105  1.390418 -0.280461  0.239858\n",
            "\n",
            "Imported DataFrame from CSV\n",
            "    SUBJECT Stim1 Stim2  Response\n",
            "0         1     B     D         5\n",
            "1         1     A     B         1\n",
            "2         1     B     C         7\n",
            "3         2     A     C         3\n",
            "4         2     A     B         2\n",
            "5         2     B     C         6\n",
            "6         3     B     C         6\n",
            "7         3     C     D         5\n",
            "8         3     A     B         3\n",
            "9         4     B     D         2\n",
            "10        4     A     D         2\n",
            "11        4     B     C         5\n",
            "12        5     C     D         6\n",
            "13        5     A     D         1\n",
            "14        5     A     B         2\n",
            "15        6     A     B         2\n",
            "16        6     A     D         2\n",
            "17        6     B     D         3\n",
            "18        7     A     D         1\n",
            "19        7     B     D         5\n",
            "20        7     A     B         1\n",
            "21        8     C     D         5\n",
            "22        8     A     C         4\n",
            "23        8     A     B         3\n",
            "24        9     A     D         2\n",
            "25        9     A     B         1\n",
            "26        9     C     D         5\n",
            "27       10     A     C         5\n",
            "28       10     B     C         7\n",
            "29       10     A     B         2\n",
            "========================================\n"
          ]
        }
      ]
    }
  ]
}